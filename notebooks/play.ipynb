{
 "cells": [
  {
   "cell_type": "code",
   "execution_count": 1,
   "metadata": {},
   "outputs": [],
   "source": [
    "import numpy as np"
   ]
  },
  {
   "cell_type": "code",
   "execution_count": 2,
   "metadata": {},
   "outputs": [
    {
     "name": "stdout",
     "output_type": "stream",
     "text": [
      "/home/gautam/Desktop/python\n"
     ]
    }
   ],
   "source": [
    "cd .."
   ]
  },
  {
   "cell_type": "code",
   "execution_count": 3,
   "metadata": {},
   "outputs": [],
   "source": [
    "from mcts.agents import RandomAgent, HumanAgent, MCTSAgent\n",
    "from mcts.tictactoe import TicTacToeEnv\n",
    "from mcts.connectfour import ConnectFourEnv"
   ]
  },
  {
   "cell_type": "code",
   "execution_count": null,
   "metadata": {},
   "outputs": [],
   "source": [
    "from mcts.connectfour import ConnectFourApp, GraphicInterface, TextInterface\n",
    "app = ConnectFourApp(GraphicInterface())\n",
    "app.run()\n"
   ]
  },
  {
   "cell_type": "markdown",
   "metadata": {},
   "source": [
    "## Testing"
   ]
  },
  {
   "cell_type": "code",
   "execution_count": 4,
   "metadata": {},
   "outputs": [],
   "source": [
    "def run_episode(agents, env, render=False):\n",
    "    \"\"\"Run agents on env and return total rewards.\"\"\"\n",
    "    env.reset()\n",
    "    if render:\n",
    "        env.render()\n",
    "    total_reward = np.zeros(len(agents))\n",
    "    while not env.done:\n",
    "        action = agents[env.turn].act(env)\n",
    "        _, rewards, _, _ = env.step(action)\n",
    "        total_reward += rewards\n",
    "        if render:\n",
    "            env.render()\n",
    "    return total_reward"
   ]
  },
  {
   "cell_type": "code",
   "execution_count": 5,
   "metadata": {},
   "outputs": [],
   "source": [
    "env = ConnectFourEnv()\n",
    "agents = [MCTSAgent(timeout=0.1), MCTSAgent(timeout=0.1)]"
   ]
  },
  {
   "cell_type": "code",
   "execution_count": 6,
   "metadata": {},
   "outputs": [
    {
     "name": "stdout",
     "output_type": "stream",
     "text": [
      "CPU times: user 21.7 s, sys: 147 ms, total: 21.9 s\n",
      "Wall time: 21.7 s\n"
     ]
    }
   ],
   "source": [
    "%time returns = np.array([run_episode(agents, env) for _ in range(10)])"
   ]
  },
  {
   "cell_type": "code",
   "execution_count": 7,
   "metadata": {},
   "outputs": [
    {
     "data": {
      "text/plain": [
       "array([[ 1., -1.],\n",
       "       [ 1., -1.],\n",
       "       [-1.,  1.],\n",
       "       [-1.,  1.],\n",
       "       [ 1., -1.],\n",
       "       [ 1., -1.],\n",
       "       [-1.,  1.],\n",
       "       [-1.,  1.],\n",
       "       [-1.,  1.],\n",
       "       [ 1., -1.]])"
      ]
     },
     "execution_count": 7,
     "metadata": {},
     "output_type": "execute_result"
    }
   ],
   "source": [
    "\"\"\"(returns == 1).sum(axis=0)\"\"\"\n",
    "returns"
   ]
  },
  {
   "cell_type": "code",
   "execution_count": 8,
   "metadata": {},
   "outputs": [],
   "source": [
    "env = ConnectFourEnv()\n",
    "agents = [HumanAgent(),MCTSAgent(timeout=2)]"
   ]
  },
  {
   "cell_type": "code",
   "execution_count": 9,
   "metadata": {},
   "outputs": [
    {
     "name": "stdout",
     "output_type": "stream",
     "text": [
      "[[0 0 0 0 0 0 0]\n",
      " [0 0 0 0 0 0 0]\n",
      " [0 0 0 0 0 0 0]\n",
      " [0 0 0 0 0 0 0]\n",
      " [0 0 0 0 0 0 0]\n",
      " [0 0 0 0 0 0 0]]\n",
      "Input action: 3\n",
      "[[0 0 0 0 0 0 0]\n",
      " [0 0 0 0 0 0 0]\n",
      " [0 0 0 0 0 0 0]\n",
      " [0 0 0 0 0 0 0]\n",
      " [0 0 0 0 0 0 0]\n",
      " [0 0 0 1 0 0 0]]\n",
      "[[ 0  0  0  0  0  0  0]\n",
      " [ 0  0  0  0  0  0  0]\n",
      " [ 0  0  0  0  0  0  0]\n",
      " [ 0  0  0  0  0  0  0]\n",
      " [ 0  0  0 -1  0  0  0]\n",
      " [ 0  0  0  1  0  0  0]]\n",
      "Input action: 3\n",
      "[[ 0  0  0  0  0  0  0]\n",
      " [ 0  0  0  0  0  0  0]\n",
      " [ 0  0  0  0  0  0  0]\n",
      " [ 0  0  0  1  0  0  0]\n",
      " [ 0  0  0 -1  0  0  0]\n",
      " [ 0  0  0  1  0  0  0]]\n",
      "[[ 0  0  0  0  0  0  0]\n",
      " [ 0  0  0  0  0  0  0]\n",
      " [ 0  0  0  0  0  0  0]\n",
      " [ 0  0  0  1  0  0  0]\n",
      " [ 0  0  0 -1  0  0  0]\n",
      " [ 0  0  0  1 -1  0  0]]\n",
      "Input action: 4\n",
      "[[ 0  0  0  0  0  0  0]\n",
      " [ 0  0  0  0  0  0  0]\n",
      " [ 0  0  0  0  0  0  0]\n",
      " [ 0  0  0  1  0  0  0]\n",
      " [ 0  0  0 -1  1  0  0]\n",
      " [ 0  0  0  1 -1  0  0]]\n",
      "[[ 0  0  0  0  0  0  0]\n",
      " [ 0  0  0  0  0  0  0]\n",
      " [ 0  0  0  0  0  0  0]\n",
      " [ 0  0  0  1 -1  0  0]\n",
      " [ 0  0  0 -1  1  0  0]\n",
      " [ 0  0  0  1 -1  0  0]]\n",
      "Input action: 5\n",
      "[[ 0  0  0  0  0  0  0]\n",
      " [ 0  0  0  0  0  0  0]\n",
      " [ 0  0  0  0  0  0  0]\n",
      " [ 0  0  0  1 -1  0  0]\n",
      " [ 0  0  0 -1  1  0  0]\n",
      " [ 0  0  0  1 -1  1  0]]\n",
      "[[ 0  0  0  0  0  0  0]\n",
      " [ 0  0  0  0  0  0  0]\n",
      " [ 0  0  0  0 -1  0  0]\n",
      " [ 0  0  0  1 -1  0  0]\n",
      " [ 0  0  0 -1  1  0  0]\n",
      " [ 0  0  0  1 -1  1  0]]\n",
      "Input action: 3\n",
      "[[ 0  0  0  0  0  0  0]\n",
      " [ 0  0  0  0  0  0  0]\n",
      " [ 0  0  0  1 -1  0  0]\n",
      " [ 0  0  0  1 -1  0  0]\n",
      " [ 0  0  0 -1  1  0  0]\n",
      " [ 0  0  0  1 -1  1  0]]\n",
      "[[ 0  0  0  0  0  0  0]\n",
      " [ 0  0  0 -1  0  0  0]\n",
      " [ 0  0  0  1 -1  0  0]\n",
      " [ 0  0  0  1 -1  0  0]\n",
      " [ 0  0  0 -1  1  0  0]\n",
      " [ 0  0  0  1 -1  1  0]]\n",
      "Input action: 4\n",
      "[[ 0  0  0  0  0  0  0]\n",
      " [ 0  0  0 -1  1  0  0]\n",
      " [ 0  0  0  1 -1  0  0]\n",
      " [ 0  0  0  1 -1  0  0]\n",
      " [ 0  0  0 -1  1  0  0]\n",
      " [ 0  0  0  1 -1  1  0]]\n",
      "[[ 0  0  0  0  0  0  0]\n",
      " [ 0  0  0 -1  1  0  0]\n",
      " [ 0  0  0  1 -1  0  0]\n",
      " [ 0  0  0  1 -1  0  0]\n",
      " [ 0  0  0 -1  1  0  0]\n",
      " [-1  0  0  1 -1  1  0]]\n",
      "Input action: 0\n",
      "[[ 0  0  0  0  0  0  0]\n",
      " [ 0  0  0 -1  1  0  0]\n",
      " [ 0  0  0  1 -1  0  0]\n",
      " [ 0  0  0  1 -1  0  0]\n",
      " [ 1  0  0 -1  1  0  0]\n",
      " [-1  0  0  1 -1  1  0]]\n",
      "[[ 0  0  0  0  0  0  0]\n",
      " [ 0  0  0 -1  1  0  0]\n",
      " [ 0  0  0  1 -1  0  0]\n",
      " [ 0  0  0  1 -1  0  0]\n",
      " [ 1  0  0 -1  1 -1  0]\n",
      " [-1  0  0  1 -1  1  0]]\n",
      "Input action: 5\n",
      "[[ 0  0  0  0  0  0  0]\n",
      " [ 0  0  0 -1  1  0  0]\n",
      " [ 0  0  0  1 -1  0  0]\n",
      " [ 0  0  0  1 -1  1  0]\n",
      " [ 1  0  0 -1  1 -1  0]\n",
      " [-1  0  0  1 -1  1  0]]\n",
      "[[ 0  0  0  0  0  0  0]\n",
      " [ 0  0  0 -1  1  0  0]\n",
      " [ 0  0  0  1 -1  0  0]\n",
      " [ 0  0  0  1 -1  1  0]\n",
      " [ 1  0  0 -1  1 -1  0]\n",
      " [-1 -1  0  1 -1  1  0]]\n",
      "Input action: 1\n",
      "[[ 0  0  0  0  0  0  0]\n",
      " [ 0  0  0 -1  1  0  0]\n",
      " [ 0  0  0  1 -1  0  0]\n",
      " [ 0  0  0  1 -1  1  0]\n",
      " [ 1  1  0 -1  1 -1  0]\n",
      " [-1 -1  0  1 -1  1  0]]\n",
      "[[ 0  0  0  0  0  0  0]\n",
      " [ 0  0  0 -1  1  0  0]\n",
      " [ 0  0  0  1 -1 -1  0]\n",
      " [ 0  0  0  1 -1  1  0]\n",
      " [ 1  1  0 -1  1 -1  0]\n",
      " [-1 -1  0  1 -1  1  0]]\n",
      "Input action: 2\n",
      "[[ 0  0  0  0  0  0  0]\n",
      " [ 0  0  0 -1  1  0  0]\n",
      " [ 0  0  0  1 -1 -1  0]\n",
      " [ 0  0  0  1 -1  1  0]\n",
      " [ 1  1  0 -1  1 -1  0]\n",
      " [-1 -1  1  1 -1  1  0]]\n",
      "[[ 0  0  0  0  0  0  0]\n",
      " [ 0  0  0 -1  1  0  0]\n",
      " [ 0  0  0  1 -1 -1  0]\n",
      " [ 0  0  0  1 -1  1  0]\n",
      " [ 1  1  0 -1  1 -1  0]\n",
      " [-1 -1  1  1 -1  1 -1]]\n",
      "Input action: 2\n",
      "[[ 0  0  0  0  0  0  0]\n",
      " [ 0  0  0 -1  1  0  0]\n",
      " [ 0  0  0  1 -1 -1  0]\n",
      " [ 0  0  0  1 -1  1  0]\n",
      " [ 1  1  1 -1  1 -1  0]\n",
      " [-1 -1  1  1 -1  1 -1]]\n",
      "[[ 0  0  0  0  0  0  0]\n",
      " [ 0  0  0 -1  1 -1  0]\n",
      " [ 0  0  0  1 -1 -1  0]\n",
      " [ 0  0  0  1 -1  1  0]\n",
      " [ 1  1  1 -1  1 -1  0]\n",
      " [-1 -1  1  1 -1  1 -1]]\n",
      "Input action: 2\n",
      "[[ 0  0  0  0  0  0  0]\n",
      " [ 0  0  0 -1  1 -1  0]\n",
      " [ 0  0  0  1 -1 -1  0]\n",
      " [ 0  0  1  1 -1  1  0]\n",
      " [ 1  1  1 -1  1 -1  0]\n",
      " [-1 -1  1  1 -1  1 -1]]\n"
     ]
    },
    {
     "data": {
      "text/plain": [
       "array([ 1., -1.])"
      ]
     },
     "execution_count": 9,
     "metadata": {},
     "output_type": "execute_result"
    }
   ],
   "source": [
    "run_episode(agents, env, render=True)"
   ]
  },
  {
   "cell_type": "code",
   "execution_count": null,
   "metadata": {},
   "outputs": [],
   "source": [
    "env = ConnectFourEnv()\n",
    "agents = [MCTSAgent(timeout=.1),RandomAgent(),]\n",
    "[run_episode(agents, env) for _ in range(100)]"
   ]
  },
  {
   "cell_type": "code",
   "execution_count": null,
   "metadata": {},
   "outputs": [],
   "source": []
  }
 ],
 "metadata": {
  "kernelspec": {
   "display_name": "Python 3",
   "language": "python",
   "name": "python3"
  },
  "language_info": {
   "codemirror_mode": {
    "name": "ipython",
    "version": 3
   },
   "file_extension": ".py",
   "mimetype": "text/x-python",
   "name": "python",
   "nbconvert_exporter": "python",
   "pygments_lexer": "ipython3",
   "version": "3.7.4"
  }
 },
 "nbformat": 4,
 "nbformat_minor": 2
}
