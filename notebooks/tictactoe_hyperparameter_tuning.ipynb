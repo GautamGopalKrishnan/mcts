{
 "cells": [
  {
   "cell_type": "code",
   "execution_count": 1,
   "metadata": {},
   "outputs": [
    {
     "name": "stdout",
     "output_type": "stream",
     "text": [
      "/home/gautam/Desktop/python\n"
     ]
    }
   ],
   "source": [
    "cd .."
   ]
  },
  {
   "cell_type": "code",
   "execution_count": 2,
   "metadata": {},
   "outputs": [],
   "source": [
    "import numpy as np\n",
    "from mcts.tictactoe import *\n",
    "from mcts.agents import *\n",
    "import matplotlib.pyplot as plt\n",
    "import seaborn as sns; sns.set()"
   ]
  },
  {
   "cell_type": "code",
   "execution_count": 3,
   "metadata": {},
   "outputs": [],
   "source": [
    "def run_episode(agents, env):\n",
    "    done = False\n",
    "    env.reset()\n",
    "    total_reward = np.zeros(env.players)\n",
    "    while not done:\n",
    "        action = agents[env.turn].act(env)\n",
    "        _,reward,done,_ = env.step(action)\n",
    "        total_reward+=reward\n",
    "    return total_reward"
   ]
  },
  {
   "cell_type": "code",
   "execution_count": 4,
   "metadata": {},
   "outputs": [
    {
     "name": "stdout",
     "output_type": "stream",
     "text": [
      "Win Percentage for MCTS Agent =  100.0\n",
      "Win Percentage for Random Agent =  0.0\n"
     ]
    }
   ],
   "source": [
    "\"\"\"MCTS agent with UCB, c=sqrt(2), timeout = 1 tree policy against Random Agent\"\"\"\n",
    "\n",
    "samples = 10\n",
    "agent1 = MCTSAgent(tree_policy=ucb(c=np.sqrt(2)),timeout=1)\n",
    "agent2 = RandomAgent()\n",
    "agents = [agent1, agent2]\n",
    "env = CTicTacToeEnv()\n",
    "\n",
    "rewards = np.array([run_episode(agents, env) for _ in range(samples)])\n",
    "results = np.sum(rewards==1, axis=0)\n",
    "print(\"Win Percentage for MCTS Agent with UCB policy = \", results[0]*100/samples)\n",
    "print(\"Win Percentage for Random Agent = \", results[1]*100/samples)"
   ]
  },
  {
   "cell_type": "code",
   "execution_count": 5,
   "metadata": {},
   "outputs": [
    {
     "name": "stdout",
     "output_type": "stream",
     "text": [
      "Win Percentage for MCTS Agent =  100.0\n",
      "Win Percentage for Random Agent =  0.0\n"
     ]
    }
   ],
   "source": [
    "\"\"\"MCTS agent with epsilon greedy, epsilon=0.05, timeout=1 tree policy against Random Agent\"\"\"\n",
    "\n",
    "samples = 10\n",
    "agent1 = MCTSAgent(tree_policy=epsilon_greedy(epsilon=0.05),timeout=1)\n",
    "agent2 = RandomAgent()\n",
    "agents = [agent1, agent2]\n",
    "env = CTicTacToeEnv()\n",
    "\n",
    "rewards = np.array([run_episode(agents, env) for _ in range(samples)])\n",
    "results = np.sum(rewards==1, axis=0)\n",
    "print(\"Win Percentage for MCTS Agent with epsilon greedy policy= \", results[0]*100/samples)\n",
    "print(\"Win Percentage for Random Agent = \", results[1]*100/samples)"
   ]
  },
  {
   "cell_type": "code",
   "execution_count": 6,
   "metadata": {},
   "outputs": [
    {
     "name": "stdout",
     "output_type": "stream",
     "text": [
      "Win Percentage for MCTS Agent with UCB policy =  0.0\n",
      "Win Percentage for MCTS Agent with epsilon greedy policy =  0.0\n"
     ]
    }
   ],
   "source": [
    "\"\"\"MCTS agent with UCB, c=sqrt(2), timeout = 1 tree policy against\n",
    "MCTS agent with epsilon greedy, epsilon=0.05, timeout=1 tree policy\"\"\"\n",
    "\n",
    "samples = 10\n",
    "agent1 = MCTSAgent(tree_policy=ucb(c=np.sqrt(2)),timeout=1)\n",
    "agent2 = MCTSAgent(tree_policy=epsilon_greedy(epsilon=0.05),timeout=1)\n",
    "agents = [agent1, agent2]\n",
    "env = CTicTacToeEnv()\n",
    "\n",
    "rewards = np.array([run_episode(agents, env) for _ in range(samples)])\n",
    "results = np.sum(rewards==1, axis=0)\n",
    "print(\"Win Percentage for MCTS Agent with UCB policy = \", results[0]*100/samples)\n",
    "print(\"Win Percentage for MCTS Agent with epsilon greedy policy = \", results[1]*100/samples)"
   ]
  },
  {
   "cell_type": "code",
   "execution_count": 9,
   "metadata": {},
   "outputs": [
    {
     "data": {
      "text/plain": [
       "[<matplotlib.lines.Line2D at 0x7f9f0771cb90>]"
      ]
     },
     "execution_count": 9,
     "metadata": {},
     "output_type": "execute_result"
    },
    {
     "data": {
      "image/png": "[encoded data removed]",
      "text/plain": [
       "<Figure size 432x288 with 1 Axes>"
      ]
     },
     "metadata": {
      "needs_background": "light"
     },
     "output_type": "display_data"
    }
   ],
   "source": [
    "\"\"\"MCTS agent with UCB, c=sqrt(2), timeout=1 tree policy against \n",
    "MCTS agent with epsilon greedy, timeout=1 tree policy with various epsilon values\"\"\"\n",
    "\n",
    "samples = 10\n",
    "env = CTicTacToeEnv()\n",
    "wins = []\n",
    "losses= []\n",
    "epsilons=[]\n",
    "agent1 = MCTSAgent(tree_policy=ucb(c=np.sqrt(2)),timeout=1)\n",
    "for e in np.arange(0.1, 1, 0.1):\n",
    "    agent2 = MCTSAgent(tree_policy=epsilon_greedy(epsilon=e),timeout=1)\n",
    "    agents = [agent1, agent2]\n",
    "    rewards = np.array([run_episode(agents, env) for _ in range(samples)])\n",
    "    results = np.sum(rewards==1, axis=0)\n",
    "    wins.append(results[0])\n",
    "    losses.append(results[1])\n",
    "    epsilons.append(e)\n",
    "plt.plot(epsilons, np.array(wins)*100/samples)\n",
    "plt.plot(epsilons, np.array(losses)*100/samples)"
   ]
  },
  {
   "cell_type": "code",
   "execution_count": 11,
   "metadata": {},
   "outputs": [
    {
     "data": {
      "text/plain": [
       "[<matplotlib.lines.Line2D at 0x7f9f06f96850>]"
      ]
     },
     "execution_count": 11,
     "metadata": {},
     "output_type": "execute_result"
    },
    {
     "data": {
      "image/png": "[encoded data removed]",
      "text/plain": [
       "<Figure size 432x288 with 1 Axes>"
      ]
     },
     "metadata": {
      "needs_background": "light"
     },
     "output_type": "display_data"
    }
   ],
   "source": [
    "\"\"\"MCTS agent with UCB, c=sqrt(2), timeout=1 tree policy against \n",
    "MCTS agent with epsilon greedy, timeout=1 tree policy with various epsilon values\"\"\"\n",
    "\n",
    "samples = 10\n",
    "env = CTicTacToeEnv()\n",
    "wins = []\n",
    "losses= []\n",
    "epsilons=[]\n",
    "agent1 = MCTSAgent(tree_policy=ucb(c=np.sqrt(2)),timeout=1)\n",
    "for e in np.arange(0.01, 0.11, 0.01):\n",
    "    agent2 = MCTSAgent(tree_policy=epsilon_greedy(epsilon=e),timeout=1)\n",
    "    agents = [agent1, agent2]\n",
    "    rewards = np.array([run_episode(agents, env) for _ in range(samples)])\n",
    "    results = np.sum(rewards==1, axis=0)\n",
    "    wins.append(results[0])\n",
    "    losses.append(results[1])\n",
    "    epsilons.append(e)\n",
    "plt.plot(epsilons, np.array(wins)*100/samples)\n",
    "plt.plot(epsilons, np.array(losses)*100/samples)"
   ]
  },
  {
   "cell_type": "code",
   "execution_count": 10,
   "metadata": {},
   "outputs": [
    {
     "data": {
      "text/plain": [
       "[<matplotlib.lines.Line2D at 0x7f9f0522e1d0>]"
      ]
     },
     "execution_count": 10,
     "metadata": {},
     "output_type": "execute_result"
    },
    {
     "data": {
      "image/png": "[encoded data removed]",
      "text/plain": [
       "<Figure size 432x288 with 1 Axes>"
      ]
     },
     "metadata": {
      "needs_background": "light"
     },
     "output_type": "display_data"
    }
   ],
   "source": [
    "\"\"\"MCTS agent with UCB, c=sqrt(2), timeout=1 tree policy against \n",
    "MCTS agent with UCB, c=sqrt(2) tree policy with various timeout values\"\"\"\n",
    "\n",
    "samples = 10\n",
    "env = CTicTacToeEnv()\n",
    "wins = []\n",
    "losses= []\n",
    "timeouts=[]\n",
    "agent1 = MCTSAgent(tree_policy=ucb(c=np.sqrt(2)),timeout=1)\n",
    "for t in np.arange(0.1, 1.1, 0.1):\n",
    "    agent2 = MCTSAgent(tree_policy=ucb(c=np.sqrt(2)),timeout=t)\n",
    "    agents = [agent1, agent2]\n",
    "    rewards = np.array([run_episode(agents, env) for _ in range(samples)])\n",
    "    results = np.sum(rewards==1, axis=0)\n",
    "    wins.append(results[0])\n",
    "    losses.append(results[1])\n",
    "    timeouts.append(t)\n",
    "plt.plot(timeouts, np.array(wins)*100/samples)\n",
    "plt.plot(timeouts, np.array(losses)*100/samples)"
   ]
  },
  {
   "cell_type": "code",
   "execution_count": 13,
   "metadata": {},
   "outputs": [
    {
     "data": {
      "text/plain": [
       "[<matplotlib.lines.Line2D at 0x7f9f073f6050>]"
      ]
     },
     "execution_count": 13,
     "metadata": {},
     "output_type": "execute_result"
    },
    {
     "data": {
      "image/png": "[encoded data removed]",
      "text/plain": [
       "<Figure size 432x288 with 1 Axes>"
      ]
     },
     "metadata": {
      "needs_background": "light"
     },
     "output_type": "display_data"
    }
   ],
   "source": [
    "\"\"\"MCTS agent with UCB, c=sqrt(2), timeout=1 tree policy against \n",
    "MCTS agent with UCB, c=sqrt(2) tree policy with various timeout values\"\"\"\n",
    "\n",
    "samples = 10\n",
    "env = CTicTacToeEnv()\n",
    "wins = []\n",
    "losses= []\n",
    "timeouts=[]\n",
    "agent1 = MCTSAgent(tree_policy=ucb(c=np.sqrt(2)),timeout=1)\n",
    "for t in np.arange(0.01, 0.11, 0.01):\n",
    "    agent2 = MCTSAgent(tree_policy=ucb(c=np.sqrt(2)),timeout=t)\n",
    "    agents = [agent1, agent2]\n",
    "    rewards = np.array([run_episode(agents, env) for _ in range(samples)])\n",
    "    results = np.sum(rewards==1, axis=0)\n",
    "    wins.append(results[0])\n",
    "    losses.append(results[1])\n",
    "    timeouts.append(t)\n",
    "plt.plot(timeouts, np.array(wins)*100/samples)\n",
    "plt.plot(timeouts, np.array(losses)*100/samples)"
   ]
  },
  {
   "cell_type": "code",
   "execution_count": null,
   "metadata": {},
   "outputs": [],
   "source": []
  }
 ],
 "metadata": {
  "kernelspec": {
   "display_name": "Python 3",
   "language": "python",
   "name": "python3"
  },
  "language_info": {
   "codemirror_mode": {
    "name": "ipython",
    "version": 3
   },
   "file_extension": ".py",
   "mimetype": "text/x-python",
   "name": "python",
   "nbconvert_exporter": "python",
   "pygments_lexer": "ipython3",
   "version": "3.7.4"
  }
 },
 "nbformat": 4,
 "nbformat_minor": 2
}
