{
 "cells": [
  {
   "cell_type": "code",
   "execution_count": 1,
   "metadata": {},
   "outputs": [
    {
     "name": "stdout",
     "output_type": "stream",
     "text": [
      "/home/gautam/Desktop/python\n"
     ]
    }
   ],
   "source": [
    "cd .."
   ]
  },
  {
   "cell_type": "code",
   "execution_count": 2,
   "metadata": {},
   "outputs": [],
   "source": [
    "import numpy as np\n",
    "from mcts.tictactoe import *\n",
    "from mcts.agents import MCTSAgent\n",
    "import matplotlib.pyplot as plt\n",
    "import seaborn as sns; sns.set()"
   ]
  },
  {
   "cell_type": "code",
   "execution_count": 3,
   "metadata": {},
   "outputs": [],
   "source": [
    "def run_episode(agents, env):\n",
    "    done = False\n",
    "    env.reset()\n",
    "    total_reward = np.zeros(env.players)\n",
    "    while not done:\n",
    "        action = agents[env.turn].act(env)\n",
    "        _,reward,done,_ = env.step(action)\n",
    "        total_reward+=reward\n",
    "    return total_reward"
   ]
  },
  {
   "cell_type": "code",
   "execution_count": null,
   "metadata": {},
   "outputs": [],
   "source": [
    "agent1 = MCTSAgent(timeout=0.01)\n",
    "agent2 = MCTSAgent(timeout=0.05)\n",
    "agents = [agent1, agent2]\n",
    "env = CTicTacToeEnv()\n",
    "run_episode(agents, env)"
   ]
  },
  {
   "cell_type": "code",
   "execution_count": null,
   "metadata": {},
   "outputs": [],
   "source": [
    "np.array([run_episode(agents, env) for _ in range(100)])"
   ]
  },
  {
   "cell_type": "code",
   "execution_count": null,
   "metadata": {},
   "outputs": [],
   "source": [
    "out = _"
   ]
  },
  {
   "cell_type": "code",
   "execution_count": null,
   "metadata": {},
   "outputs": [],
   "source": [
    "out"
   ]
  },
  {
   "cell_type": "code",
   "execution_count": null,
   "metadata": {},
   "outputs": [],
   "source": [
    "np.mean(out, axis=0)"
   ]
  },
  {
   "cell_type": "code",
   "execution_count": null,
   "metadata": {},
   "outputs": [],
   "source": [
    "np.sum(out==1, axis=0)"
   ]
  },
  {
   "cell_type": "code",
   "execution_count": 7,
   "metadata": {},
   "outputs": [
    {
     "data": {
      "text/plain": [
       "[<matplotlib.lines.Line2D at 0x7f7f32d4cf90>]"
      ]
     },
     "execution_count": 7,
     "metadata": {},
     "output_type": "execute_result"
    },
    {
     "data": {
      "image/png": "[encoded data removed]",
      "text/plain": [
       "<Figure size 432x288 with 1 Axes>"
      ]
     },
     "metadata": {
      "needs_background": "light"
     },
     "output_type": "display_data"
    }
   ],
   "source": [
    "samples = 10\n",
    "agent1 = MCTSAgent(timeout=0.01)\n",
    "\n",
    "env = CTicTacToeEnv()\n",
    "wins = []\n",
    "losses= []\n",
    "timeouts=[]\n",
    "for t in np.arange(0.1, 1, 0.1):\n",
    "    agent2 = MCTSAgent(timeout=t)\n",
    "    agents = [agent1, agent2]\n",
    "    rewards = np.array([run_episode(agents, env) for _ in range(samples)])\n",
    "    results = np.sum(rewards==1, axis=0)\n",
    "    wins.append(results[0])\n",
    "    losses.append(results[1])\n",
    "    timeouts.append(t)\n",
    "plt.plot(timeouts, np.array(wins)*100/samples)\n",
    "plt.plot(timeouts, np.array(losses)*100/samples)\n",
    "    "
   ]
  },
  {
   "cell_type": "code",
   "execution_count": null,
   "metadata": {},
   "outputs": [],
   "source": []
  }
 ],
 "metadata": {
  "kernelspec": {
   "display_name": "Python 3",
   "language": "python",
   "name": "python3"
  },
  "language_info": {
   "codemirror_mode": {
    "name": "ipython",
    "version": 3
   },
   "file_extension": ".py",
   "mimetype": "text/x-python",
   "name": "python",
   "nbconvert_exporter": "python",
   "pygments_lexer": "ipython3",
   "version": "3.7.4"
  }
 },
 "nbformat": 4,
 "nbformat_minor": 2
}
