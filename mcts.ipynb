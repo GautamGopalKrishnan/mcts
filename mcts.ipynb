{
 "cells": [
  {
   "cell_type": "code",
   "execution_count": 1,
   "metadata": {},
   "outputs": [],
   "source": [
    "import numpy as np"
   ]
  },
  {
   "cell_type": "markdown",
   "metadata": {},
   "source": [
    "## Environment"
   ]
  },
  {
   "cell_type": "code",
   "execution_count": 2,
   "metadata": {},
   "outputs": [],
   "source": [
    "class TicTacToeEnv:\n",
    "    \"\"\"An environment for one-player tic-tac-toe.\"\"\"\n",
    "    \n",
    "    def __init__(self, state=np.zeros((3, 3), dtype=np.int)):\n",
    "        self.state = state\n",
    "\n",
    "    def reset(self):\n",
    "        self.state = np.zeros((3, 3), dtype=np.int)\n",
    "        return self.state.copy()\n",
    "\n",
    "    def step(self, action):\n",
    "        assert self.state[action] != 1\n",
    "        self.state[action] = 1\n",
    "        return self.state.copy(), -1, self.done, {}\n",
    "\n",
    "    def copy(self):\n",
    "        copy = TicTacToeEnv()\n",
    "        copy.state = self.state.copy()\n",
    "        return copy\n",
    "    \n",
    "    def render(self):\n",
    "        print(self.state)\n",
    "\n",
    "    @property\n",
    "    def actions(self):\n",
    "        \"\"\"The available actions for the current state.\"\"\"\n",
    "        if self.done:\n",
    "            return []\n",
    "        return [(a, b) for a in range(3) for b in range(3) if self.state[a, b] != 1]\n",
    "\n",
    "    @property\n",
    "    def done(self):\n",
    "        \"\"\"True if three in a row somewhere.\"\"\"\n",
    "        for row in range(3):\n",
    "            if np.sum(self.state[row, :]) == 3:\n",
    "                return True\n",
    "        for col in range(3):\n",
    "            if np.sum(self.state[:, col]) == 3:\n",
    "                return True\n",
    "        if np.sum(self.state[np.arange(3), np.arange(3)]) == 3:\n",
    "            return True\n",
    "        if np.sum(self.state[np.arange(3), np.arange(2, -1, -1)]) == 3:\n",
    "            return True\n",
    "        return False"
   ]
  },
  {
   "cell_type": "markdown",
   "metadata": {},
   "source": [
    "## Agent"
   ]
  },
  {
   "cell_type": "code",
   "execution_count": 3,
   "metadata": {},
   "outputs": [],
   "source": [
    "def epsilongreedy(node, epsilon):\n",
    "    \"\"\"Implements epsilon-greedy algorithm\"\"\"\n",
    "    if np.random.rand() < epsilon:\n",
    "        node = np.random.choice(node.children)\n",
    "    else:\n",
    "        node = max(node.children, key=lambda node: node.value)\n",
    "    return node"
   ]
  },
  {
   "cell_type": "code",
   "execution_count": 4,
   "metadata": {},
   "outputs": [],
   "source": [
    "def ucb(node, c):\n",
    "    \"\"\"Implements Upper Confidence Bound algorithm following Kocsis-Szepesvari\"\"\"\n",
    "    p=np.log(node.visits)\n",
    "    def v(node):\n",
    "        if node.visits==0:\n",
    "            return np.inf\n",
    "        else:\n",
    "            return node.value + c*np.sqrt(p/node.visits)\n",
    "    return max(node.children, key=v)"
   ]
  },
  {
   "cell_type": "code",
   "execution_count": 5,
   "metadata": {},
   "outputs": [],
   "source": [
    "class TreeNode:\n",
    "    \"\"\"A tree node for Monte Carlo tree search.\"\"\"\n",
    "    \n",
    "    def __init__(self, parent, action, reward, done, env):\n",
    "        self.parent = parent\n",
    "        self.action = action\n",
    "        self.reward = reward\n",
    "        self.done = done\n",
    "        self.env = env\n",
    "        self.visits = 0\n",
    "        self.value = 0\n",
    "        self.children = []\n",
    "\n",
    "class MCTSAgent:\n",
    "    \"\"\"A Monte Carlo tree search agent.\n",
    "\n",
    "    Parameters\n",
    "    ----------\n",
    "    env_fn : function\n",
    "        A function which maps states to new environments.\n",
    "    epsilon : float, optional\n",
    "        The fraction of uniform random choices in epsilon-greedy.\n",
    "    rollots : int, optional\n",
    "        The number of rollouts to perform before choosing an action.\n",
    "\n",
    "    \"\"\"\n",
    "    \n",
    "    def __init__(self, env_fn, epsilon=0.05, rollouts=100):\n",
    "        self.env_fn = env_fn\n",
    "        self.epsilon = epsilon\n",
    "        self.rollouts = rollouts\n",
    "    \n",
    "    def act(self, state):\n",
    "        env = self.env_fn(state)\n",
    "        root = TreeNode(None, None, 0, False, env)\n",
    "        for _ in range(self.rollouts):\n",
    "            leaf = self.expand(root)\n",
    "            value = self.simulate(leaf)\n",
    "            self.backup(leaf, value)      \n",
    "        return max(root.children, key=lambda node: node.value).action\n",
    "    \n",
    "    def expand(self, node):\n",
    "        \"\"\"Return an unvisited or terminal leaf node following epsilon-greedy.\n",
    "        \n",
    "        Before returning, this function performs all possible actions from the\n",
    "        leaf node and adds new nodes for them to the tree as children of the\n",
    "        leaf node.\n",
    "        \"\"\"\n",
    "        while node.visits != 0 and len(node.children) > 0:\n",
    "            \"\"\"Could use epsilon-greedy/UCB\"\"\"\n",
    "            \"\"\"Choose value of constant here for Upper Confidence Bound algorithm\"\"\"\n",
    "            node = ucb(node, 1)\n",
    "        for action in node.env.actions:\n",
    "            env = node.env.copy()\n",
    "            state, reward, done, _ = env.step(action)\n",
    "            node.children.append(TreeNode(node, action, reward, done, env))\n",
    "        return node\n",
    "    \n",
    "    def simulate(self, node):\n",
    "        \"\"\"Return one total reward from node following uniform random policy.\"\"\"\n",
    "        env = node.env.copy()\n",
    "        done = node.done\n",
    "        total_reward = 0\n",
    "        while not done:\n",
    "            action = env.actions[np.random.choice(len(env.actions))]\n",
    "            state, reward, done, _ = env.step(action)\n",
    "            total_reward += reward\n",
    "        return total_reward\n",
    "    \n",
    "    def backup(self, node, value):\n",
    "        \"\"\"Backup the return from a rollout from node.\"\"\"\n",
    "        while node != None:\n",
    "            node.visits += 1\n",
    "            node.value = (node.visits - 1)/node.visits * node.value + value/node.visits\n",
    "            value += node.reward\n",
    "            node = node.parent"
   ]
  },
  {
   "cell_type": "markdown",
   "metadata": {},
   "source": [
    "## Testing"
   ]
  },
  {
   "cell_type": "code",
   "execution_count": 6,
   "metadata": {},
   "outputs": [],
   "source": [
    "def run_episode(agent, env, render=False):\n",
    "    \"\"\"Run agent on env and return total reward.\"\"\"\n",
    "    state = env.reset()\n",
    "    done = False\n",
    "    total_reward = 0\n",
    "    while not done:\n",
    "        action = agent.act(state)\n",
    "        state, reward, done, _ = env.step(action)\n",
    "        total_reward += reward\n",
    "        if render:\n",
    "            env.render()\n",
    "    return total_reward"
   ]
  },
  {
   "cell_type": "code",
   "execution_count": 7,
   "metadata": {},
   "outputs": [
    {
     "name": "stdout",
     "output_type": "stream",
     "text": [
      "[[0 0 0]\n",
      " [0 1 0]\n",
      " [0 0 0]]\n",
      "[[0 0 0]\n",
      " [0 1 0]\n",
      " [0 1 0]]\n",
      "[[0 1 0]\n",
      " [0 1 0]\n",
      " [0 1 0]]\n"
     ]
    },
    {
     "data": {
      "text/plain": [
       "-3"
      ]
     },
     "execution_count": 7,
     "metadata": {},
     "output_type": "execute_result"
    }
   ],
   "source": [
    "agent = MCTSAgent(TicTacToeEnv, rollouts=1000)\n",
    "env = TicTacToeEnv()\n",
    "run_episode(agent, env, render=True)"
   ]
  },
  {
   "cell_type": "code",
   "execution_count": 8,
   "metadata": {},
   "outputs": [
    {
     "data": {
      "text/plain": [
       "-3.0"
      ]
     },
     "execution_count": 8,
     "metadata": {},
     "output_type": "execute_result"
    }
   ],
   "source": [
    "agent = MCTSAgent(TicTacToeEnv, rollouts=100)\n",
    "env = TicTacToeEnv()\n",
    "np.mean([run_episode(agent, env) for _ in range(100)])"
   ]
  },
  {
   "cell_type": "code",
   "execution_count": null,
   "metadata": {},
   "outputs": [],
   "source": []
  }
 ],
 "metadata": {
  "kernelspec": {
   "display_name": "Python 3",
   "language": "python",
   "name": "python3"
  },
  "language_info": {
   "codemirror_mode": {
    "name": "ipython",
    "version": 3
   },
   "file_extension": ".py",
   "mimetype": "text/x-python",
   "name": "python",
   "nbconvert_exporter": "python",
   "pygments_lexer": "ipython3",
   "version": "3.7.4"
  }
 },
 "nbformat": 4,
 "nbformat_minor": 2
}
