{
 "cells": [
  {
   "cell_type": "code",
   "execution_count": 2,
   "metadata": {},
   "outputs": [],
   "source": [
    "import numpy as np\n",
    "import pandas as pd\n",
    "import matplotlib.pyplot as plt\n",
    "import seaborn as sns;sns.set()"
   ]
  },
  {
   "cell_type": "code",
   "execution_count": 3,
   "metadata": {},
   "outputs": [
    {
     "data": {
      "text/html": [
       "<div>\n",
       "<style scoped>\n",
       "    .dataframe tbody tr th:only-of-type {\n",
       "        vertical-align: middle;\n",
       "    }\n",
       "\n",
       "    .dataframe tbody tr th {\n",
       "        vertical-align: top;\n",
       "    }\n",
       "\n",
       "    .dataframe thead th {\n",
       "        text-align: right;\n",
       "    }\n",
       "</style>\n",
       "<table border=\"1\" class=\"dataframe\">\n",
       "  <thead>\n",
       "    <tr style=\"text-align: right;\">\n",
       "      <th></th>\n",
       "      <th>Agent1</th>\n",
       "      <th>Agent2</th>\n",
       "      <th>Steps</th>\n",
       "    </tr>\n",
       "  </thead>\n",
       "  <tbody>\n",
       "    <tr>\n",
       "      <td>0</td>\n",
       "      <td>1.0</td>\n",
       "      <td>-1.0</td>\n",
       "      <td>35</td>\n",
       "    </tr>\n",
       "    <tr>\n",
       "      <td>1</td>\n",
       "      <td>-1.0</td>\n",
       "      <td>1.0</td>\n",
       "      <td>28</td>\n",
       "    </tr>\n",
       "    <tr>\n",
       "      <td>2</td>\n",
       "      <td>-1.0</td>\n",
       "      <td>1.0</td>\n",
       "      <td>24</td>\n",
       "    </tr>\n",
       "    <tr>\n",
       "      <td>3</td>\n",
       "      <td>-1.0</td>\n",
       "      <td>1.0</td>\n",
       "      <td>24</td>\n",
       "    </tr>\n",
       "    <tr>\n",
       "      <td>4</td>\n",
       "      <td>-1.0</td>\n",
       "      <td>1.0</td>\n",
       "      <td>34</td>\n",
       "    </tr>\n",
       "    <tr>\n",
       "      <td>...</td>\n",
       "      <td>...</td>\n",
       "      <td>...</td>\n",
       "      <td>...</td>\n",
       "    </tr>\n",
       "    <tr>\n",
       "      <td>495</td>\n",
       "      <td>-1.0</td>\n",
       "      <td>1.0</td>\n",
       "      <td>34</td>\n",
       "    </tr>\n",
       "    <tr>\n",
       "      <td>496</td>\n",
       "      <td>0.0</td>\n",
       "      <td>0.0</td>\n",
       "      <td>42</td>\n",
       "    </tr>\n",
       "    <tr>\n",
       "      <td>497</td>\n",
       "      <td>1.0</td>\n",
       "      <td>-1.0</td>\n",
       "      <td>21</td>\n",
       "    </tr>\n",
       "    <tr>\n",
       "      <td>498</td>\n",
       "      <td>-1.0</td>\n",
       "      <td>1.0</td>\n",
       "      <td>34</td>\n",
       "    </tr>\n",
       "    <tr>\n",
       "      <td>499</td>\n",
       "      <td>-1.0</td>\n",
       "      <td>1.0</td>\n",
       "      <td>34</td>\n",
       "    </tr>\n",
       "  </tbody>\n",
       "</table>\n",
       "<p>500 rows × 3 columns</p>\n",
       "</div>"
      ],
      "text/plain": [
       "     Agent1  Agent2  Steps\n",
       "0       1.0    -1.0     35\n",
       "1      -1.0     1.0     28\n",
       "2      -1.0     1.0     24\n",
       "3      -1.0     1.0     24\n",
       "4      -1.0     1.0     34\n",
       "..      ...     ...    ...\n",
       "495    -1.0     1.0     34\n",
       "496     0.0     0.0     42\n",
       "497     1.0    -1.0     21\n",
       "498    -1.0     1.0     34\n",
       "499    -1.0     1.0     34\n",
       "\n",
       "[500 rows x 3 columns]"
      ]
     },
     "execution_count": 3,
     "metadata": {},
     "output_type": "execute_result"
    }
   ],
   "source": [
    "df=pd.read_csv(\"ConnectFour-c1.1t1.0-c1.1t1.0.csv\")\n",
    "df"
   ]
  },
  {
   "cell_type": "code",
   "execution_count": 4,
   "metadata": {},
   "outputs": [
    {
     "data": {
      "text/html": [
       "<div>\n",
       "<style scoped>\n",
       "    .dataframe tbody tr th:only-of-type {\n",
       "        vertical-align: middle;\n",
       "    }\n",
       "\n",
       "    .dataframe tbody tr th {\n",
       "        vertical-align: top;\n",
       "    }\n",
       "\n",
       "    .dataframe thead th {\n",
       "        text-align: right;\n",
       "    }\n",
       "</style>\n",
       "<table border=\"1\" class=\"dataframe\">\n",
       "  <thead>\n",
       "    <tr style=\"text-align: right;\">\n",
       "      <th></th>\n",
       "      <th>Agent1</th>\n",
       "      <th>Agent2</th>\n",
       "      <th>Steps</th>\n",
       "    </tr>\n",
       "  </thead>\n",
       "  <tbody>\n",
       "    <tr>\n",
       "      <td>count</td>\n",
       "      <td>500.000000</td>\n",
       "      <td>500.000000</td>\n",
       "      <td>500.000000</td>\n",
       "    </tr>\n",
       "    <tr>\n",
       "      <td>mean</td>\n",
       "      <td>0.088000</td>\n",
       "      <td>-0.088000</td>\n",
       "      <td>32.476000</td>\n",
       "    </tr>\n",
       "    <tr>\n",
       "      <td>std</td>\n",
       "      <td>0.968572</td>\n",
       "      <td>0.968572</td>\n",
       "      <td>6.280152</td>\n",
       "    </tr>\n",
       "    <tr>\n",
       "      <td>min</td>\n",
       "      <td>-1.000000</td>\n",
       "      <td>-1.000000</td>\n",
       "      <td>14.000000</td>\n",
       "    </tr>\n",
       "    <tr>\n",
       "      <td>25%</td>\n",
       "      <td>-1.000000</td>\n",
       "      <td>-1.000000</td>\n",
       "      <td>29.000000</td>\n",
       "    </tr>\n",
       "    <tr>\n",
       "      <td>50%</td>\n",
       "      <td>1.000000</td>\n",
       "      <td>-1.000000</td>\n",
       "      <td>34.000000</td>\n",
       "    </tr>\n",
       "    <tr>\n",
       "      <td>75%</td>\n",
       "      <td>1.000000</td>\n",
       "      <td>1.000000</td>\n",
       "      <td>36.000000</td>\n",
       "    </tr>\n",
       "    <tr>\n",
       "      <td>max</td>\n",
       "      <td>1.000000</td>\n",
       "      <td>1.000000</td>\n",
       "      <td>42.000000</td>\n",
       "    </tr>\n",
       "  </tbody>\n",
       "</table>\n",
       "</div>"
      ],
      "text/plain": [
       "           Agent1      Agent2       Steps\n",
       "count  500.000000  500.000000  500.000000\n",
       "mean     0.088000   -0.088000   32.476000\n",
       "std      0.968572    0.968572    6.280152\n",
       "min     -1.000000   -1.000000   14.000000\n",
       "25%     -1.000000   -1.000000   29.000000\n",
       "50%      1.000000   -1.000000   34.000000\n",
       "75%      1.000000    1.000000   36.000000\n",
       "max      1.000000    1.000000   42.000000"
      ]
     },
     "execution_count": 4,
     "metadata": {},
     "output_type": "execute_result"
    }
   ],
   "source": [
    "df.describe()"
   ]
  },
  {
   "cell_type": "code",
   "execution_count": 5,
   "metadata": {},
   "outputs": [
    {
     "data": {
      "text/plain": [
       "0.516"
      ]
     },
     "execution_count": 5,
     "metadata": {},
     "output_type": "execute_result"
    }
   ],
   "source": [
    "np.mean(df.Agent1==1.0)"
   ]
  },
  {
   "cell_type": "code",
   "execution_count": 6,
   "metadata": {},
   "outputs": [
    {
     "data": {
      "text/plain": [
       "0.428"
      ]
     },
     "execution_count": 6,
     "metadata": {},
     "output_type": "execute_result"
    }
   ],
   "source": [
    "np.mean(df.Agent2==1.0)"
   ]
  },
  {
   "cell_type": "code",
   "execution_count": 7,
   "metadata": {},
   "outputs": [],
   "source": [
    "def winpercentages(env=\"ConnectFour\", t1=1.0, t2=1.0, c1=1.0, c2=1.0, e1=0.01, e2=0.02, treepolicy1=\"ucb\", treepolicy2=\"ucb\"):\n",
    "    if treepolicy1 == \"epsilon_greedy\" and treepolicy2 == \"epsilon_greedy\":\n",
    "        filename = f\"{env}-e{e1}t{t1}-e{e2}t{t2}.csv\"\n",
    "    elif treepolicy1 == \"epsilon_greedy\" and treepolicy2 == \"ucb\":\n",
    "        filename = f\"{env}-e{e1}t{t1}-c{c2}t{t2}.csv\"\n",
    "    elif treepolicy1 == \"ucb\" and treepolicy2 == \"epsilon_greedy\":\n",
    "        filename = f\"{env}-c{c1}t{t1}-e{e2}t{t2}.csv\"\n",
    "    elif treepolicy1 == \"ucb\" and treepolicy2 == \"ucb\":\n",
    "        filename = f\"{env}-c{c1}t{t1}-c{c2}t{t2}.csv\"\n",
    "    df=pd.read_csv(filename)\n",
    "    return np.mean(df.Agent1==1.0), np.mean(df.Agent2==1.0), np.mean(df.Steps)\n",
    "        "
   ]
  },
  {
   "cell_type": "code",
   "execution_count": 8,
   "metadata": {},
   "outputs": [
    {
     "data": {
      "text/plain": [
       "(0.516, 0.428, 32.476)"
      ]
     },
     "execution_count": 8,
     "metadata": {},
     "output_type": "execute_result"
    }
   ],
   "source": [
    "winpercentages(env=\"ConnectFour\", t1=1.0,t2=1.0,c1=1.1,c2=1.1,treepolicy1=\"ucb\",treepolicy2=\"ucb\")"
   ]
  },
  {
   "cell_type": "code",
   "execution_count": 13,
   "metadata": {},
   "outputs": [
    {
     "data": {
      "text/plain": [
       "array([[ 0.584,  0.38 , 25.232],\n",
       "       [ 0.434,  0.534, 27.862],\n",
       "       [ 0.338,  0.604, 28.898],\n",
       "       [ 0.32 ,  0.632, 28.9  ],\n",
       "       [ 0.29 ,  0.662, 28.198],\n",
       "       [ 0.25 ,  0.702, 28.446],\n",
       "       [ 0.236,  0.738, 28.276],\n",
       "       [ 0.232,  0.732, 27.904],\n",
       "       [ 0.186,  0.776, 27.978],\n",
       "       [ 0.192,  0.774, 27.568]])"
      ]
     },
     "execution_count": 13,
     "metadata": {},
     "output_type": "execute_result"
    }
   ],
   "source": [
    "ucbs = [1.1, 1.2, 1.3, 1.4, 1.5, 1.6, 1.7, 1.8, 1.9, 2.0]\n",
    "epss = [0.01, 0.02, 0.03, 0.04, 0.05, 0.06, 0.07, 0.08, 0.09, 0.10]\n",
    "e1=0.01\n",
    "c1=1.4\n",
    "arr=np.array([winpercentages(e1=min(e1,e2),e2=max(e1,e2),treepolicy1=\"epsilon_greedy\",treepolicy2=\"epsilon_greedy\") for e2 in epss])\n",
    "arr\n",
    "    "
   ]
  },
  {
   "cell_type": "code",
   "execution_count": 21,
   "metadata": {},
   "outputs": [
    {
     "name": "stdout",
     "output_type": "stream",
     "text": [
      "[0.584, 0.434, 0.338, 0.32, 0.29, 0.25, 0.236, 0.232, 0.186, 0.192]\n",
      "[0.38, 0.534, 0.604, 0.632, 0.662, 0.702, 0.738, 0.732, 0.776, 0.774]\n",
      "[0.03600000000000003, 0.03200000000000003, 0.05799999999999994, 0.04799999999999993, 0.04799999999999993, 0.04800000000000004, 0.026000000000000023, 0.03600000000000003, 0.038000000000000034, 0.03400000000000003]\n"
     ]
    }
   ],
   "source": [
    "e1=0.01\n",
    "w1list=[]\n",
    "w2list=[]\n",
    "slist=[]\n",
    "tielist=[]\n",
    "for e2 in epss:\n",
    "    if e1<=e2:\n",
    "        w1,w2,s=winpercentages(e1=min(e1,e2),e2=max(e1,e2),treepolicy1=\"epsilon_greedy\",treepolicy2=\"epsilon_greedy\")\n",
    "        w1list.append(w1)\n",
    "        w2list.append(w2)\n",
    "        slist.append(s)\n",
    "        tielist.append(1-w1-w2)\n",
    "    elif e1>e2:\n",
    "        w1,w2,s=winpercentages(e1=min(e1,e2),e2=max(e1,e2),treepolicy1=\"epsilon_greedy\",treepolicy2=\"epsilon_greedy\")\n",
    "        w1list.append(w2)\n",
    "        w2list.append(w1)\n",
    "        slist.append(s)\n",
    "        tielist.append(1-w1-w2)\n",
    "print(w1list)\n",
    "print(w2list)\n",
    "print(tielist)"
   ]
  },
  {
   "cell_type": "code",
   "execution_count": 22,
   "metadata": {},
   "outputs": [
    {
     "data": {
      "text/plain": [
       "<matplotlib.legend.Legend at 0x7ffa225415d0>"
      ]
     },
     "execution_count": 22,
     "metadata": {},
     "output_type": "execute_result"
    },
    {
     "data": {
      "image/png": "[encoded data removed]",
      "text/plain": [
       "<Figure size 432x288 with 1 Axes>"
      ]
     },
     "metadata": {
      "needs_background": "light"
     },
     "output_type": "display_data"
    }
   ],
   "source": [
    "plt.plot(epss,100*np.array(w1list),label=\"Agent1wins\")\n",
    "plt.plot(epss,100*np.array(w2list),label=\"Agent2wins\")\n",
    "plt.plot(epss,100*np.array(tielist),label=\"Ties\")\n",
    "plt.legend()"
   ]
  },
  {
   "cell_type": "code",
   "execution_count": 30,
   "metadata": {},
   "outputs": [
    {
     "name": "stdout",
     "output_type": "stream",
     "text": [
      "[0.492, 0.51, 0.466, 0.416, 0.436, 0.348]\n"
     ]
    }
   ],
   "source": [
    "e1=0.05\n",
    "w1list=[]\n",
    "w2list=[]\n",
    "slist=[]\n",
    "tielist=[]\n",
    "for e2 in epss:\n",
    "    if e1<=e2:\n",
    "        w1,w2,s=winpercentages(e1=min(e1,e2),e2=max(e1,e2),treepolicy1=\"epsilon_greedy\",treepolicy2=\"epsilon_greedy\")\n",
    "        w1list.append(w1)\n",
    "        w2list.append(w2)\n",
    "        slist.append(s)\n",
    "        tielist.append(1-w1-w2)\n",
    "print(w1list)"
   ]
  },
  {
   "cell_type": "code",
   "execution_count": 31,
   "metadata": {},
   "outputs": [
    {
     "data": {
      "text/plain": [
       "<matplotlib.legend.Legend at 0x7ffa2212bd10>"
      ]
     },
     "execution_count": 31,
     "metadata": {},
     "output_type": "execute_result"
    },
    {
     "data": {
      "image/png": "[encoded data removed]",
      "text/plain": [
       "<Figure size 432x288 with 1 Axes>"
      ]
     },
     "metadata": {
      "needs_background": "light"
     },
     "output_type": "display_data"
    }
   ],
   "source": [
    "plt.plot(epss[4:],100*np.array(w1list),label=\"Agent1wins\")\n",
    "plt.plot(epss[4:],100*np.array(w2list),label=\"Agent2wins\")\n",
    "plt.plot(epss[4:],100*np.array(tielist),label=\"Ties\")\n",
    "plt.legend()"
   ]
  },
  {
   "cell_type": "code",
   "execution_count": 33,
   "metadata": {},
   "outputs": [
    {
     "name": "stdout",
     "output_type": "stream",
     "text": [
      "[0.774, 0.71, 0.614, 0.566, 0.594, 0.494, 0.488, 0.49, 0.45, 0.418]\n"
     ]
    }
   ],
   "source": [
    "e1=0.1\n",
    "w1list=[]\n",
    "w2list=[]\n",
    "slist=[]\n",
    "tielist=[]\n",
    "for e2 in epss:\n",
    "    if e1>=e2:\n",
    "        w1,w2,s=winpercentages(e1=min(e1,e2),e2=max(e1,e2),treepolicy1=\"epsilon_greedy\",treepolicy2=\"epsilon_greedy\")\n",
    "        w1list.append(w2)\n",
    "        w2list.append(w1)\n",
    "        slist.append(s)\n",
    "        tielist.append(1-w1-w2)\n",
    "print(w1list)"
   ]
  },
  {
   "cell_type": "code",
   "execution_count": 35,
   "metadata": {},
   "outputs": [
    {
     "data": {
      "text/plain": [
       "<matplotlib.legend.Legend at 0x7ffa22269610>"
      ]
     },
     "execution_count": 35,
     "metadata": {},
     "output_type": "execute_result"
    },
    {
     "data": {
      "image/png": "[encoded data removed]",
      "text/plain": [
       "<Figure size 432x288 with 1 Axes>"
      ]
     },
     "metadata": {
      "needs_background": "light"
     },
     "output_type": "display_data"
    }
   ],
   "source": [
    "plt.plot(epss,100*np.array(w1list),label=\"Agent1wins\")\n",
    "plt.plot(epss,100*np.array(w2list),label=\"Agent2wins\")\n",
    "plt.plot(epss,100*np.array(tielist),label=\"Ties\")\n",
    "plt.legend()"
   ]
  },
  {
   "cell_type": "code",
   "execution_count": null,
   "metadata": {},
   "outputs": [],
   "source": []
  }
 ],
 "metadata": {
  "kernelspec": {
   "display_name": "Python 3",
   "language": "python",
   "name": "python3"
  },
  "language_info": {
   "codemirror_mode": {
    "name": "ipython",
    "version": 3
   },
   "file_extension": ".py",
   "mimetype": "text/x-python",
   "name": "python",
   "nbconvert_exporter": "python",
   "pygments_lexer": "ipython3",
   "version": "3.7.4"
  }
 },
 "nbformat": 4,
 "nbformat_minor": 2
}
