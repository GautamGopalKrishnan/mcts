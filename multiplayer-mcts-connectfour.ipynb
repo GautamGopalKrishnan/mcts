{
 "cells": [
  {
   "cell_type": "code",
   "execution_count": 63,
   "metadata": {},
   "outputs": [],
   "source": [
    "import numpy as np"
   ]
  },
  {
   "cell_type": "markdown",
   "metadata": {},
   "source": [
    "## Environment"
   ]
  },
  {
   "cell_type": "code",
   "execution_count": 64,
   "metadata": {},
   "outputs": [],
   "source": [
    "class ConnectFourEnv:\n",
    "    \"\"\"An environment for two-player connect-four.\"\"\"\n",
    "\n",
    "    def __init__(self, state=None, turn=None):\n",
    "        self.state = np.zeros((7, 6), dtype=np.int) if state is None else state\n",
    "        self.players = 2\n",
    "        self.turn = 0 if turn is None else turn\n",
    "\n",
    "    def reset(self):\n",
    "        \"\"\"Initialize a new game and return state and turn.\"\"\"\n",
    "        self.state = np.zeros((7, 6), dtype=np.int)\n",
    "        self.turn = 0\n",
    "        return self.state.copy(), self.turn\n",
    "\n",
    "    def step(self, action):\n",
    "        \"\"\"Perform action and return new state, rewards, done, and turn.\"\"\"\n",
    "        assert self.state[action] == 0\n",
    "        self.state[action] = (-1) ** self.turn\n",
    "        rewards = np.zeros(self.players)\n",
    "        if self.done:\n",
    "            winner = self.winner()\n",
    "            if winner == 0:\n",
    "                rewards[0] = 1\n",
    "                rewards[1] = -1\n",
    "            elif winner == 1:\n",
    "                rewards[0] = -1\n",
    "                rewards[1] = 1\n",
    "        self.turn = (self.turn + 1) % 2\n",
    "        return self.state.copy(), rewards, self.done, self.turn\n",
    "\n",
    "    def copy(self):\n",
    "        copy = ConnectFourEnv()\n",
    "        copy.state = self.state.copy()\n",
    "        copy.turn = self.turn\n",
    "        return copy\n",
    "\n",
    "    def render(self):\n",
    "        print(self.state)\n",
    "\n",
    "    def winner(self):\n",
    "        for row in range(7):\n",
    "            for col in range(6):\n",
    "                (rsum,csum,dsum,s)=(0,0,0,int(np.sign(2.5-col)))\n",
    "                if col<3:\n",
    "                    for j in range(4):\n",
    "                        rsum=rsum+self.state[row,col+j]\n",
    "                if row<4:\n",
    "                    for i in range(4):\n",
    "                        csum=csum+self.state[row+i,col]\n",
    "                        dsum=dsum+self.state[row+i,col+s*i]\n",
    "                if rsum==4 or csum==4 or dsum==4:\n",
    "                    return 0\n",
    "                if rsum==-4 or csum==-4 or dsum==-4:\n",
    "                    return 1\n",
    "        return None\n",
    "\n",
    "    @property\n",
    "    def actions(self):\n",
    "        \"\"\"The available actions for the current state.\"\"\"\n",
    "        if self.done:\n",
    "            return []\n",
    "        l=[]\n",
    "        for b in range(6):\n",
    "            for a in range(7):\n",
    "                if self.state[a,b]==0:\n",
    "                    if a==6:\n",
    "                        l.append((a,b))\n",
    "                    elif self.state[a+1,b]!=0:\n",
    "                        l.append((a,b))\n",
    "        return l\n",
    "\n",
    "    @property\n",
    "    def done(self):\n",
    "        \"\"\"True if three in a row somewhere.\"\"\"\n",
    "        return self.winner() is not None or np.all(self.state != 0)"
   ]
  },
  {
   "cell_type": "markdown",
   "metadata": {},
   "source": [
    "## Agent"
   ]
  },
  {
   "cell_type": "code",
   "execution_count": 65,
   "metadata": {},
   "outputs": [],
   "source": [
    "def epsilon_greedy(epsilon=0.05):\n",
    "    \"\"\"Return an epsilon-greedy tree policy.\"\"\"\n",
    "    def policy(node, turn):\n",
    "        if np.random.rand() < epsilon:\n",
    "            node = np.random.choice(node.children)\n",
    "        else:\n",
    "            node = max(node.children, key=lambda node: node.value[turn])\n",
    "        return node\n",
    "    return policy\n",
    "\n",
    "\n",
    "def ucb(c=np.sqrt(2)):\n",
    "    \"\"\"Return an upper confidence bound tree policy.\"\"\"\n",
    "    def policy(node, turn):\n",
    "        def v(node):\n",
    "            if node.visits == 0:\n",
    "                return np.inf\n",
    "            value = node.value[turn]\n",
    "            value += c * np.sqrt(np.log(node.parent.visits)/node.visits)\n",
    "            return value\n",
    "        return max(node.children, key=v)\n",
    "    return policy\n",
    "\n",
    "\n",
    "class TreeNode:\n",
    "    \"\"\"A tree node for Monte Carlo tree search.\"\"\"\n",
    "    \n",
    "    def __init__(self, parent, action, reward, done, turn, env):\n",
    "        self.parent = parent\n",
    "        self.children = []\n",
    "        self.action = action\n",
    "        self.reward = reward\n",
    "        self.done = done\n",
    "        self.turn = turn\n",
    "        self.env = env\n",
    "        self.visits = 0\n",
    "        self.value = np.zeros(2)\n",
    "\n",
    "\n",
    "class MCTSAgent:\n",
    "    \"\"\"A Monte Carlo tree search agent.\n",
    "\n",
    "    Parameters\n",
    "    ----------\n",
    "    env_fn : function\n",
    "        A function which maps states to new environments.\n",
    "    tree_policy : function\n",
    "        A function which maps (node, turn) to child node.\n",
    "    rollouts : int, optional\n",
    "        The number of rollouts to perform before choosing an action.\n",
    "\n",
    "    \"\"\"\n",
    "    \n",
    "    def __init__(self, env_fn, tree_policy=ucb(), rollouts=100):\n",
    "        self.env_fn = env_fn\n",
    "        self.tree_policy = tree_policy\n",
    "        self.rollouts = rollouts\n",
    "    \n",
    "    def act(self, state, turn):\n",
    "        env = self.env_fn(state=state, turn=turn)\n",
    "        root = TreeNode(None, None, np.zeros(2), False, turn, env)\n",
    "        for _ in range(self.rollouts):\n",
    "            leaf = self.expand(root)\n",
    "            value = self.simulate(leaf)\n",
    "            self.backup(leaf, value)\n",
    "        self.root = root\n",
    "        return max(root.children, key=lambda node: node.visits).action\n",
    "    \n",
    "    def expand(self, node):\n",
    "        \"\"\"Return an unvisited or terminal leaf node following epsilon-greedy.\n",
    "        \n",
    "        Before returning, this function performs all possible actions from the\n",
    "        leaf node and adds new nodes for them to the tree as children of the\n",
    "        leaf node.\n",
    "        \"\"\"\n",
    "        while node.visits != 0 and len(node.children) > 0:\n",
    "            turn = node.turn\n",
    "            node = self.tree_policy(node, turn)\n",
    "        for action in node.env.actions:\n",
    "            env = node.env.copy()\n",
    "            state, rewards, done, turn = env.step(action)\n",
    "            node.children.append(TreeNode(node, action, rewards, done, turn, env))\n",
    "        return node\n",
    "    \n",
    "    def simulate(self, node):\n",
    "        \"\"\"Return one total reward from node following uniform random policy.\"\"\"\n",
    "        env = node.env.copy()\n",
    "        done = node.done\n",
    "        total_rewards = np.zeros(2)\n",
    "        while not done:\n",
    "            action = env.actions[np.random.choice(len(env.actions))]\n",
    "            state, rewards, done, turn = env.step(action)\n",
    "            total_rewards += rewards\n",
    "        return total_rewards\n",
    "    \n",
    "    def backup(self, node, value):\n",
    "        \"\"\"Backup the return from a rollout from node.\"\"\"\n",
    "        while node != None:\n",
    "            value += node.reward\n",
    "            node.visits += 1\n",
    "            node.value = (node.visits - 1)/node.visits * node.value + value/node.visits\n",
    "            node = node.parent"
   ]
  },
  {
   "cell_type": "code",
   "execution_count": 66,
   "metadata": {},
   "outputs": [],
   "source": [
    "class RandomAgent:\n",
    "    \"\"\"An agent that picks a random free space.\"\"\"\n",
    "    def act(self, state, turn):\n",
    "        actions=[]\n",
    "        for b in range(6):\n",
    "            for a in range(7):\n",
    "                if state[a,b]==0:\n",
    "                    if a==6:\n",
    "                        actions.append((a,b))\n",
    "                    elif state[a+1,b]!=0:\n",
    "                        actions.append((a,b))\n",
    "        index = np.random.choice(len(actions))\n",
    "        return actions[index]"
   ]
  },
  {
   "cell_type": "code",
   "execution_count": 67,
   "metadata": {},
   "outputs": [],
   "source": [
    "class HumanAgent:\n",
    "    \"\"\"An agent controlled by a human player's input.\"\"\"\n",
    "\n",
    "    def act(self, state, turn):\n",
    "        indices = input('Input action: ').replace('(', '').replace(')', '').split(',')\n",
    "        return tuple(int(x) for x in indices)"
   ]
  },
  {
   "cell_type": "markdown",
   "metadata": {},
   "source": [
    "## Testing"
   ]
  },
  {
   "cell_type": "code",
   "execution_count": 68,
   "metadata": {},
   "outputs": [],
   "source": [
    "def run_episode(agents, env, render=False):\n",
    "    \"\"\"Run agents on env and return total rewards.\"\"\"\n",
    "    state, turn = env.reset()\n",
    "    if render:\n",
    "        env.render()\n",
    "    total_reward = np.zeros(len(agents))\n",
    "    done = False\n",
    "    while not done:\n",
    "        action = agents[turn].act(state, turn)\n",
    "        state, rewards, done, turn = env.step(action)\n",
    "        total_reward += rewards\n",
    "        if render:\n",
    "            env.render()\n",
    "    return total_reward"
   ]
  },
  {
   "cell_type": "code",
   "execution_count": 69,
   "metadata": {},
   "outputs": [
    {
     "name": "stdout",
     "output_type": "stream",
     "text": [
      "CPU times: user 1min 15s, sys: 364 ms, total: 1min 15s\n",
      "Wall time: 1min 13s\n"
     ]
    },
    {
     "data": {
      "text/plain": [
       "0.0"
      ]
     },
     "execution_count": 69,
     "metadata": {},
     "output_type": "execute_result"
    }
   ],
   "source": [
    "%%time\n",
    "\n",
    "env = ConnectFourEnv()\n",
    "agents = [RandomAgent(), MCTSAgent(ConnectFourEnv, rollouts=100)]\n",
    "np.mean([run_episode(agents, env) for _ in range(10)])"
   ]
  },
  {
   "cell_type": "code",
   "execution_count": 10,
   "metadata": {},
   "outputs": [],
   "source": [
    "env = ConnectFourEnv()\n",
    "agents = [MCTSAgent(ConnectFourEnv, rollouts=1000), HumanAgent()]"
   ]
  },
  {
   "cell_type": "code",
   "execution_count": 13,
   "metadata": {},
   "outputs": [
    {
     "name": "stdout",
     "output_type": "stream",
     "text": [
      " "
     ]
    }
   ],
   "source": [
    "state, turn = env.reset()\n",
    "%prun -s cumulative action = agents[0].act(state, turn)"
   ]
  },
  {
   "cell_type": "code",
   "execution_count": null,
   "metadata": {},
   "outputs": [],
   "source": []
  }
 ],
 "metadata": {
  "kernelspec": {
   "display_name": "Python 3",
   "language": "python",
   "name": "python3"
  },
  "language_info": {
   "codemirror_mode": {
    "name": "ipython",
    "version": 3
   },
   "file_extension": ".py",
   "mimetype": "text/x-python",
   "name": "python",
   "nbconvert_exporter": "python",
   "pygments_lexer": "ipython3",
   "version": "3.7.4"
  }
 },
 "nbformat": 4,
 "nbformat_minor": 2
}
